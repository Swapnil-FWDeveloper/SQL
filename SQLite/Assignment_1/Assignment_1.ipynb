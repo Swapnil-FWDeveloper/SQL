{
 "cells": [
  {
   "cell_type": "code",
   "execution_count": 1,
   "id": "ced189d3-fb69-4284-9ccc-56f3ca359586",
   "metadata": {},
   "outputs": [
    {
     "name": "stdout",
     "output_type": "stream",
     "text": [
      "The first row in the resulting record set: 46796E3331\n"
     ]
    }
   ],
   "source": [
    "import sqlite3\n",
    "\n",
    "# Connect to the SQLite database \n",
    "conn = sqlite3.connect('my_database.db')\n",
    "\n",
    "# Create a cursor object to interact with the database\n",
    "cursor = conn.cursor()\n",
    "\n",
    "# Create the Ages table if not exists\n",
    "cursor.execute('''\n",
    "CREATE TABLE IF NOT EXISTS Ages (\n",
    "  name VARCHAR(128),\n",
    "  age INTEGER\n",
    ")\n",
    "''')\n",
    "\n",
    "# Delete any existing rows in the Ages table\n",
    "cursor.execute('DELETE FROM Ages')\n",
    "\n",
    "# Insert the provided rows into the Ages table\n",
    "rows_to_insert = [\n",
    "    ('Mara', 28),\n",
    "    ('Otto', 33),\n",
    "    ('Fyn', 31),\n",
    "    ('Neshawn', 17)\n",
    "]\n",
    "cursor.executemany('INSERT INTO Ages (name, age) VALUES (?, ?)', rows_to_insert)\n",
    "\n",
    "# Commit changes to the database\n",
    "conn.commit()\n",
    "\n",
    "# Run the SQL command to concatenate name and age, convert to hexadecimal, and order the results\n",
    "cursor.execute('SELECT hex(name || age) AS X FROM Ages ORDER BY X')\n",
    "\n",
    " # Fetch all rows from the result set\n",
    "result_rows = cursor.fetchall()\n",
    "\n",
    "# Find and print the first row\n",
    "if result_rows:\n",
    "    first_row = result_rows[0][0]\n",
    "    print(\"The first row in the resulting record set:\", first_row)\n",
    "\n",
    "# Close the cursor and the connection\n",
    "cursor.close()\n",
    "conn.close()"
   ]
  }
 ],
 "metadata": {
  "kernelspec": {
   "display_name": "Python 3 (ipykernel)",
   "language": "python",
   "name": "python3"
  },
  "language_info": {
   "codemirror_mode": {
    "name": "ipython",
    "version": 3
   },
   "file_extension": ".py",
   "mimetype": "text/x-python",
   "name": "python",
   "nbconvert_exporter": "python",
   "pygments_lexer": "ipython3",
   "version": "3.12.2"
  }
 },
 "nbformat": 4,
 "nbformat_minor": 5
}
