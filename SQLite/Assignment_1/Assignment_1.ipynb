{
 "cells": [
  {
   "cell_type": "code",
   "execution_count": 1,
   "id": "ced189d3-fb69-4284-9ccc-56f3ca359586",
   "metadata": {},
   "outputs": [
    {
     "name": "stdout",
     "output_type": "stream",
     "text": [
      "The first row in the resulting record set: 46796E3331\n"
     ]
    }
   ],
   "source": [
    "import sqlite3\n",
    "\n",
    "conn = sqlite3.connect('my_database.db')\n",
    "\n",
    "cursor = conn.cursor()\n",
    "\n",
    "cursor.execute('''\n",
    "CREATE TABLE IF NOT EXISTS Ages (\n",
    "  name VARCHAR(128),\n",
    "  age INTEGER\n",
    ")\n",
    "''')\n",
    "\n",
    "cursor.execute('DELETE FROM Ages')\n",
    "\n",
    "rows_to_insert = [\n",
    "    ('Mara', 28),\n",
    "    ('Otto', 33),\n",
    "    ('Fyn', 31),\n",
    "    ('Neshawn', 17)\n",
    "]\n",
    "cursor.executemany('INSERT INTO Ages (name, age) VALUES (?, ?)', rows_to_insert)\n",
    "\n",
    "conn.commit()\n",
    "\n",
    "cursor.execute('SELECT hex(name || age) AS X FROM Ages ORDER BY X')\n",
    "\n",
    "result_rows = cursor.fetchall()\n",
    "\n",
    "if result_rows:\n",
    "    first_row = result_rows[0][0]\n",
    "    print(\"The first row in the resulting record set:\", first_row)\n",
    "\n",
    "cursor.close()\n",
    "conn.close()"
   ]
  }
 ],
 "metadata": {
  "kernelspec": {
   "display_name": "Python 3 (ipykernel)",
   "language": "python",
   "name": "python3"
  },
  "language_info": {
   "codemirror_mode": {
    "name": "ipython",
    "version": 3
   },
   "file_extension": ".py",
   "mimetype": "text/x-python",
   "name": "python",
   "nbconvert_exporter": "python",
   "pygments_lexer": "ipython3",
   "version": "3.12.2"
  }
 },
 "nbformat": 4,
 "nbformat_minor": 5
}
